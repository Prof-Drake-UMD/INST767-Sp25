{
 "cells": [
  {
   "cell_type": "code",
   "execution_count": 2,
   "id": "b0589ae1",
   "metadata": {},
   "outputs": [],
   "source": [
    "import requests\n",
    "import csv\n",
    "\n",
    "#game_deals\n",
    "games_url = \"https://www.cheapshark.com/api/1.0/deals\"\n",
    "games_params = {\"storeID\": \"1\", \"upperPrice\": \"15\", \"pageSize\": 20}\n",
    "games_data = requests.get(games_url, params=games_params).json()\n",
    "\n",
    "with open(\"game_deals.csv\", \"w\", newline='') as f:\n",
    "    writer = csv.writer(f)\n",
    "    writer.writerow([\"title\", \"normal_price\", \"sale_price\", \"savings\", \"steam_rating\", \"store_id\", \"deal_url\"])\n",
    "    for deal in games_data:\n",
    "        writer.writerow([\n",
    "            deal.get(\"title\"),\n",
    "            deal.get(\"normalPrice\"),\n",
    "            deal.get(\"salePrice\"),\n",
    "            deal.get(\"savings\"),\n",
    "            deal.get(\"steamRatingPercent\"),\n",
    "            deal.get(\"storeID\"),\n",
    "            f\"https://www.cheapshark.com/redirect?dealID={deal.get('dealID')}\"\n",
    "        ])\n"
   ]
  },
  {
   "cell_type": "code",
   "execution_count": 3,
   "id": "1d04cef0",
   "metadata": {},
   "outputs": [],
   "source": [
    "\n",
    "#cards\n",
    "mtg_url = \"https://api.magicthegathering.io/v1/cards\"\n",
    "mtg_params = {\"pageSize\": 20}\n",
    "mtg_data = requests.get(mtg_url, params=mtg_params).json()[\"cards\"]\n",
    "\n",
    "with open(\"mtg_cards.csv\", \"w\", newline='') as f:\n",
    "    writer = csv.writer(f)\n",
    "    writer.writerow([\"name\", \"mana_cost\", \"cmc\", \"type\", \"colors\", \"power\", \"toughness\", \"rarity\", \"set_name\", \"image_url\"])\n",
    "    for card in mtg_data:\n",
    "        writer.writerow([\n",
    "            card.get(\"name\"),\n",
    "            card.get(\"manaCost\"),\n",
    "            card.get(\"cmc\"),\n",
    "            card.get(\"type\"),\n",
    "            \", \".join(card.get(\"colors\", [])),\n",
    "            card.get(\"power\"),\n",
    "            card.get(\"toughness\"),\n",
    "            card.get(\"rarity\"),\n",
    "            card.get(\"setName\"),\n",
    "            card.get(\"imageUrl\")\n",
    "        ])\n"
   ]
  },
  {
   "cell_type": "code",
   "execution_count": 4,
   "id": "a6cd0025",
   "metadata": {},
   "outputs": [],
   "source": [
    "\n",
    "#disney\n",
    "disney_url = \"https://api.disneyapi.dev/character\"\n",
    "disney_data = requests.get(disney_url).json()[\"data\"]\n",
    "\n",
    "with open(\"disney_characters.csv\", \"w\", newline='') as f:\n",
    "    writer = csv.writer(f)\n",
    "    writer.writerow([\"name\", \"films\", \"tv_shows\", \"video_games\", \"source_url\", \"image_url\"])\n",
    "    for character in disney_data[:20]:\n",
    "        writer.writerow([\n",
    "            character.get(\"name\"),\n",
    "            \", \".join(character.get(\"films\", [])),\n",
    "            \", \".join(character.get(\"tvShows\", [])),\n",
    "            \", \".join(character.get(\"videoGames\", [])),\n",
    "            character.get(\"sourceUrl\"),\n",
    "            character.get(\"imageUrl\")\n",
    "        ])\n"
   ]
  }
 ],
 "metadata": {
  "kernelspec": {
   "display_name": "Python 3 (ipykernel)",
   "language": "python",
   "name": "python3"
  },
  "language_info": {
   "codemirror_mode": {
    "name": "ipython",
    "version": 3
   },
   "file_extension": ".py",
   "mimetype": "text/x-python",
   "name": "python",
   "nbconvert_exporter": "python",
   "pygments_lexer": "ipython3",
   "version": "3.9.12"
  }
 },
 "nbformat": 4,
 "nbformat_minor": 5
}
