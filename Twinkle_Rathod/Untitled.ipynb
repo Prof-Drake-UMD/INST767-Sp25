{
 "cells": [
  {
   "cell_type": "code",
   "execution_count": 1,
   "id": "a7816e5f-cfa7-416b-9d13-e980ca581a16",
   "metadata": {},
   "outputs": [
    {
     "name": "stdout",
     "output_type": "stream",
     "text": [
      "🚀 Starting local ETL pipeline...\n",
      "Fetching DC data...\n",
      "Saved: dc_data_2025-05-07.geojson\n",
      "Fetching NYC data...\n",
      "Saved: nyc_data_2025-05-07.json\n",
      "Fetching CDC data...\n",
      "Saved: cdc_state_data_2025-05-07.json\n",
      "\n",
      "✅ Ingest Complete\n",
      "\n",
      "🔧 Transforming DC data...\n",
      "✅ DC rows: 84085\n",
      "  incident_date        description        location  latitude  longitude\n",
      "0    2014-01-01     Single_Gunshot  WashingtonDC5D    38.916    -77.002\n",
      "1    2014-01-01  Multiple_Gunshots  WashingtonDC7D    38.823    -77.000\n",
      "\n",
      "🔧 Transforming NYC data...\n",
      "✅ NYC rows: 30\n",
      "             incident_date                  description       location  \\\n",
      "0  2024-12-16T00:00:00.000  CRIMINAL DISPOSAL FIREARM 1      MANHATTAN   \n",
      "1  2025-02-07T00:00:00.000  CRIMINAL DISPOSAL FIREARM 1  STATEN ISLAND   \n",
      "\n",
      "    latitude  longitude  \n",
      "0  40.728697 -74.006203  \n",
      "1  40.645005 -74.077265  \n",
      "\n",
      "🔧 Transforming CDC data...\n",
      "✅ CDC rows: 918\n",
      "  incident_date description location\n",
      "0          2019   FA_Deaths  Alabama\n",
      "1          2020   FA_Deaths  Alabama\n",
      "\n",
      "🧩 Combining data...\n",
      "\n",
      "📊 Final Combined DataFrame:\n",
      "                               incident_id           city incident_date  \\\n",
      "0  dc_1ba318c1-c1ba-4e45-84af-f0b8de22cf0b  Washington DC    2014-01-01   \n",
      "1  dc_23836467-bf72-43c9-a90d-c4d5c1afb91d  Washington DC    2014-01-01   \n",
      "2  dc_793a75b3-cada-40cd-9f68-187b41597510  Washington DC    2014-01-01   \n",
      "3  dc_ec5549e0-fc81-4399-a7d5-33dff8b519f8  Washington DC    2014-01-01   \n",
      "4  dc_a4d7a622-19a6-4f92-9863-116a7141ea15  Washington DC    2014-01-01   \n",
      "\n",
      "  incident_time        description        location  latitude  longitude  \\\n",
      "0      06:18:00     Single_Gunshot  WashingtonDC5D    38.916    -77.002   \n",
      "1      05:00:10  Multiple_Gunshots  WashingtonDC7D    38.823    -77.000   \n",
      "2      05:00:10  Multiple_Gunshots  WashingtonDC1D    38.893    -76.993   \n",
      "3      05:00:11  Multiple_Gunshots  WashingtonDC4D    38.940    -77.026   \n",
      "4      05:00:12  Multiple_Gunshots  WashingtonDC6D    38.890    -76.938   \n",
      "\n",
      "  source_dataset                  loaded_at  \n",
      "0      DC ArcGIS 2025-05-07 06:04:20.903333  \n",
      "1      DC ArcGIS 2025-05-07 06:04:20.903857  \n",
      "2      DC ArcGIS 2025-05-07 06:04:20.904225  \n",
      "3      DC ArcGIS 2025-05-07 06:04:20.904572  \n",
      "4      DC ArcGIS 2025-05-07 06:04:20.904906  \n",
      "Columns: ['incident_id', 'city', 'incident_date', 'incident_time', 'description', 'location', 'latitude', 'longitude', 'source_dataset', 'loaded_at']\n",
      "Total rows: 85033\n",
      "Data types:\n",
      " incident_id               object\n",
      "city                      object\n",
      "incident_date             object\n",
      "incident_time             object\n",
      "description               object\n",
      "location                  object\n",
      "latitude                 float64\n",
      "longitude                float64\n",
      "source_dataset            object\n",
      "loaded_at         datetime64[ns]\n",
      "dtype: object\n"
     ]
    },
    {
     "name": "stderr",
     "output_type": "stream",
     "text": [
      "/Users/twinkle/Desktop/INST767-Sp25/Twinkle_Rathod/transform.py:85: FutureWarning: The behavior of DataFrame concatenation with empty or all-NA entries is deprecated. In a future version, this will no longer exclude empty or all-NA columns when determining the result dtypes. To retain the old behavior, exclude the relevant entries before the concat operation.\n",
      "  combined = pd.concat(frames, ignore_index=True)\n"
     ]
    },
    {
     "name": "stdout",
     "output_type": "stream",
     "text": [
      "\n",
      "✅ ETL pipeline complete. Output saved to data/output/firearm_incidents_file.csv\n"
     ]
    }
   ],
   "source": [
    "%run local_pipeline.py"
   ]
  },
  {
   "cell_type": "code",
   "execution_count": 2,
   "id": "fb7bbb23-8273-450f-8094-f09ee3b67b3b",
   "metadata": {},
   "outputs": [
    {
     "name": "stdout",
     "output_type": "stream",
     "text": [
      "Starting local ETL pipeline...\n",
      "Fetching DC data...\n",
      "Saved: dc_data_2025-05-07.geojson\n",
      "Fetching NYC data...\n",
      "Saved: nyc_data_2025-05-07.json\n",
      "Fetching CDC data...\n",
      "Saved: cdc_state_data_2025-05-07.json\n",
      "\n",
      "Ingest Complete\n",
      "\n",
      "Transforming DC data...\n",
      "DC rows: 84085\n",
      "  incident_date        description        location  latitude  longitude\n",
      "0    2014-01-01     Single_Gunshot  WashingtonDC5D    38.916    -77.002\n",
      "1    2014-01-01  Multiple_Gunshots  WashingtonDC7D    38.823    -77.000\n",
      "\n",
      "Transforming NYC data...\n",
      "NYC rows: 30\n",
      "             incident_date                  description       location  \\\n",
      "0  2025-02-24T00:00:00.000  CRIMINAL DISPOSAL FIREARM 1      MANHATTAN   \n",
      "1  2025-02-07T00:00:00.000  CRIMINAL DISPOSAL FIREARM 1  STATEN ISLAND   \n",
      "\n",
      "    latitude  longitude  \n",
      "0  40.743774 -74.007025  \n",
      "1  40.645005 -74.077265  \n",
      "\n",
      "Transforming CDC data...\n",
      "CDC rows: 918\n",
      "  incident_date description location\n",
      "0          2021   FA_Deaths    Texas\n",
      "1          2019   FA_Deaths  Alabama\n",
      "\n",
      "Combining data...\n",
      "\n",
      "Final Combined DataFrame:\n",
      "                               incident_id           city incident_date  \\\n",
      "0  dc_6249a4f1-72f1-4843-88d5-268945088e1e  Washington DC    2014-01-01   \n",
      "1  dc_edf771a0-e527-4540-a61f-3f1e0ed819ef  Washington DC    2014-01-01   \n",
      "2  dc_cb58274e-6117-45c7-ace3-fc7ed21c71bb  Washington DC    2014-01-01   \n",
      "3  dc_1b24c3b0-2b48-48cf-9c8d-6f9e8b428206  Washington DC    2014-01-01   \n",
      "4  dc_7a767b34-77bc-4878-ad33-00c5f2237457  Washington DC    2014-01-01   \n",
      "\n",
      "  incident_time        description        location  latitude  longitude  \\\n",
      "0      06:18:00     Single_Gunshot  WashingtonDC5D    38.916    -77.002   \n",
      "1      05:00:10  Multiple_Gunshots  WashingtonDC7D    38.823    -77.000   \n",
      "2      05:00:10  Multiple_Gunshots  WashingtonDC1D    38.893    -76.993   \n",
      "3      05:00:11  Multiple_Gunshots  WashingtonDC4D    38.940    -77.026   \n",
      "4      05:00:12  Multiple_Gunshots  WashingtonDC6D    38.890    -76.938   \n",
      "\n",
      "  source_dataset                  loaded_at  \n",
      "0      DC ArcGIS 2025-05-07 06:10:41.095454  \n",
      "1      DC ArcGIS 2025-05-07 06:10:41.096230  \n",
      "2      DC ArcGIS 2025-05-07 06:10:41.096722  \n",
      "3      DC ArcGIS 2025-05-07 06:10:41.097130  \n",
      "4      DC ArcGIS 2025-05-07 06:10:41.097471  \n",
      "Columns: ['incident_id', 'city', 'incident_date', 'incident_time', 'description', 'location', 'latitude', 'longitude', 'source_dataset', 'loaded_at']\n",
      "Total rows: 85033\n",
      "Data types:\n",
      " incident_id               object\n",
      "city                      object\n",
      "incident_date             object\n",
      "incident_time             object\n",
      "description               object\n",
      "location                  object\n",
      "latitude                 float64\n",
      "longitude                float64\n",
      "source_dataset            object\n",
      "loaded_at         datetime64[ns]\n",
      "dtype: object\n"
     ]
    },
    {
     "name": "stderr",
     "output_type": "stream",
     "text": [
      "/Users/twinkle/Desktop/INST767-Sp25/Twinkle_Rathod/transform.py:85: FutureWarning: The behavior of DataFrame concatenation with empty or all-NA entries is deprecated. In a future version, this will no longer exclude empty or all-NA columns when determining the result dtypes. To retain the old behavior, exclude the relevant entries before the concat operation.\n",
      "  combined = pd.concat(frames, ignore_index=True)\n"
     ]
    },
    {
     "name": "stdout",
     "output_type": "stream",
     "text": [
      "\n",
      "ETL pipeline complete. Output saved to data/output/firearm_incidents_file.csv\n"
     ]
    }
   ],
   "source": [
    "%run local_pipeline.py"
   ]
  },
  {
   "cell_type": "code",
   "execution_count": null,
   "id": "5071398b-4367-4ce9-bb0b-f72341b59687",
   "metadata": {},
   "outputs": [],
   "source": []
  }
 ],
 "metadata": {
  "kernelspec": {
   "display_name": "Python 3 (ipykernel)",
   "language": "python",
   "name": "python3"
  },
  "language_info": {
   "codemirror_mode": {
    "name": "ipython",
    "version": 3
   },
   "file_extension": ".py",
   "mimetype": "text/x-python",
   "name": "python",
   "nbconvert_exporter": "python",
   "pygments_lexer": "ipython3",
   "version": "3.12.5"
  }
 },
 "nbformat": 4,
 "nbformat_minor": 5
}
