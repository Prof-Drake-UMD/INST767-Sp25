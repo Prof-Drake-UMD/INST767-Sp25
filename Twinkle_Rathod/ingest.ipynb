{
 "cells": [
  {
   "cell_type": "code",
   "execution_count": null,
   "id": "01aef059-c23d-4d72-8b1a-9747cecbb9b7",
   "metadata": {},
   "outputs": [],
   "source": [
    "import requests\n",
    "import os\n",
    "import json\n",
    "from datetime import datetime\n",
    "\n",
    "# Create a folder to store raw data\n",
    "RAW_DATA_DIR = \"data/raw\"\n",
    "os.makedirs(RAW_DATA_DIR, exist_ok=True)\n",
    "\n",
    "\n",
    "def save_json(data, filename):\n",
    "    \"\"\"Save response JSON to a file\"\"\"\n",
    "    path = os.path.join(RAW_DATA_DIR, filename)\n",
    "    with open(path, \"w\") as f:\n",
    "        json.dump(data, f, indent=2)\n",
    "    print(f\"Saved: {filename}\")\n",
    "\n",
    "\n",
    "def fetch_dc_data():\n",
    "    \"\"\"Fetch DC gun violence data (GeoJSON format)\"\"\"\n",
    "    print(\"Fetching DC data...\")\n",
    "    url = \"https://opendata.arcgis.com/datasets/89bfd2aed9a142249225a638448a5276_29.geojson\"\n",
    "    response = requests.get(url)\n",
    "    data = response.json()\n",
    "    save_json(data, f\"dc_data_{datetime.today().date()}.geojson\")\n",
    "    return data\n",
    "\n",
    "\n",
    "def fetch_nyc_data(limit=1000):\n",
    "    \"\"\"Fetch NYC gun crime complaints from Socrata\"\"\"\n",
    "    print(\"Fetching NYC data...\")\n",
    "    url = \"https://data.cityofnewyork.us/resource/5uac-w243.json\"\n",
    "    params = {\n",
    "        \"$where\": \"pd_desc LIKE '%FIREARM%'\",\n",
    "        \"$limit\": limit\n",
    "    }\n",
    "    response = requests.get(url, params=params)\n",
    "    data = response.json()\n",
    "    save_json(data, f\"nyc_data_{datetime.today().date()}.json\")\n",
    "    return data\n",
    "\n",
    "\n",
    "def fetch_cdc_data(limit=1000):\n",
    "    \"\"\"Fetch CDC firearm-related data only\"\"\"\n",
    "    print(\"Fetching CDC data...\")\n",
    "    url = \"https://data.cdc.gov/resource/t6u2-f84c.json\"\n",
    "    params = {\n",
    "        \"$limit\": limit,\n",
    "        \"$where\": \"startswith(intent, 'FA_')\"\n",
    "    }\n",
    "    response = requests.get(url, params=params)\n",
    "    data = response.json()\n",
    "    save_json(data, f\"cdc_data_{datetime.today().date()}.json\")\n",
    "    return data\n",
    "\n",
    "\n",
    "if __name__ == \"__main__\":\n",
    "    dc_data = fetch_dc_data()\n",
    "    nyc_data = fetch_nyc_data()\n",
    "    cdc_data = fetch_cdc_data()\n",
    "\n",
    "    print(\"All data fetched and saved.\")\n"
   ]
  },
  {
   "cell_type": "code",
   "execution_count": 6,
   "id": "2dacaaed-a145-49b4-8a31-fee05a5ed143",
   "metadata": {},
   "outputs": [
    {
     "name": "stdout",
     "output_type": "stream",
     "text": [
      "Fetching DC data...\n",
      "Saved: dc_data_2025-05-07.geojson\n",
      "Fetching NYC data...\n",
      "Saved: nyc_data_2025-05-07.json\n",
      "Fetching CDC data...\n",
      "Saved: cdc_data_2025-05-07.json\n",
      "All data fetched and saved.\n",
      "Script ran successfully!\n"
     ]
    }
   ],
   "source": [
    "%run ingest.py"
   ]
  },
  {
   "cell_type": "code",
   "execution_count": null,
   "id": "15d6bda2-074e-471d-967c-2d37e802096e",
   "metadata": {},
   "outputs": [],
   "source": []
  }
 ],
 "metadata": {
  "kernelspec": {
   "display_name": "Python 3 (ipykernel)",
   "language": "python",
   "name": "python3"
  },
  "language_info": {
   "codemirror_mode": {
    "name": "ipython",
    "version": 3
   },
   "file_extension": ".py",
   "mimetype": "text/x-python",
   "name": "python",
   "nbconvert_exporter": "python",
   "pygments_lexer": "ipython3",
   "version": "3.12.5"
  }
 },
 "nbformat": 4,
 "nbformat_minor": 5
}
