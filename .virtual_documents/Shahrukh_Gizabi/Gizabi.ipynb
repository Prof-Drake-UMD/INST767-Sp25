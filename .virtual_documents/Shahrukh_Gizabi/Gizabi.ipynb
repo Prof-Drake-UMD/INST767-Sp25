


pip install IPython


import http.client

conn = http.client.HTTPSConnection("api.sportsgameodds.com")
payload = ''
headers = {}
conn.request("GET", "/v2/events/?apiKey=0983623404088451fb73204a193a538a&leagueID=EPL&startsAfter=2024-08-16&startsBefore=2025-05-25", payload, headers)
res = conn.getresponse()
data = res.read()
print(data.decode("utf-8"))

output_file = "sportsbet.json"
with open(data, 'w', encoding='utf-8') as outfile:
    json.dump(games_info, outfile, indent=4)


import http.client

conn = http.client.HTTPSConnection("api.football-data.org")
payload = ''
headers = {
  'X-Auth-Token': '03af182216ae4b6ca5b82f8336756202'
}
conn.request("GET", "/v4/competitions/PL/matches?season=2023", payload, headers)
res = conn.getresponse()
data = res.read()
print(data.decode("utf-8"))

output_file = "football_data_api.json"
with open(data, 'w', encoding='utf-8') as outfile:
    json.dump(games_info, outfile, indent=4)


import http.client

conn = http.client.HTTPSConnection("v3.football.api-sports.io")

headers = {
    'x-rapidapi-host': "v3.football.api-sports.io",
    'x-rapidapi-key': "e07d09f3605182e6fb155626e90508e2"
    }

conn.request("GET", "/teams/statistics?season=2023&team=33&league=39", headers=headers)

res = conn.getresponse()
data = res.read()

print(data.decode("utf-8"))

output_file = "football_api.json"
with open(data, 'w', encoding='utf-8') as outfile:
    json.dump(games_info, outfile, indent=4)






import requests
import json
import os # For API keys later

# --- API Keys (Consider moving to environment variables later) ---
SPORTSGAMEODDS_API_KEY = "0983623404088451fb73204a193a538a" # Replace if you have a personal one
FOOTBALL_DATA_ORG_TOKEN = "03af182216ae4b6ca5b82f8336756202"
API_FOOTBALL_KEY = "e07d09f3605182e6fb155626e90508e2"

# --- API Call Functions ---

def fetch_sports_game_odds(api_key, league_id="EPL", starts_after="2024-08-16", starts_before="2025-05-25"):
    """
    Fetches event odds from the sportsgameodds.com API.
    """
    url = "https://api.sportsgameodds.com/v2/events/"
    params = {
        'apiKey': api_key,
        'leagueID': league_id,
        'startsAfter': starts_after,
        'startsBefore': starts_before
    }
    try:
        response = requests.get(url, params=params)
        response.raise_for_status() # Raises an HTTPError for bad responses (4XX or 5XX)
        return response.json() # requests can directly convert JSON response to a dict
    except requests.exceptions.RequestException as e:
        print(f"Error fetching data from sportsgameodds: {e}")
        return None

def fetch_football_data_matches(api_token, competition_code="PL", season="2023"):
    """
    Fetches match data from football-data.org API.
    """
    url = f"https://api.football-data.org/v4/competitions/{competition_code}/matches"
    headers = {'X-Auth-Token': api_token}
    params = {'season': season}
    try:
        response = requests.get(url, headers=headers, params=params)
        response.raise_for_status()
        return response.json()
    except requests.exceptions.RequestException as e:
        print(f"Error fetching data from football-data.org: {e}")
        return None

def fetch_api_football_team_stats(api_key, league_id="39", season="2023", team_id="33"):
    """
    Fetches team statistics from api-football.com API.
    """
    url = "https://v3.football.api-sports.io/teams/statistics"
    headers = {
        'x-rapidapi-host': "v3.football.api-sports.io",
        'x-rapidapi-key': api_key
    }
    params = {
        'league': league_id,
        'season': season,
        'team': team_id
    }
    try:
        response = requests.get(url, headers=headers, params=params)
        response.raise_for_status()
        return response.json()
    except requests.exceptions.RequestException as e:
        print(f"Error fetching data from api-football.com: {e}")
        return None

# --- Main execution and saving data ---

def save_json_to_file(data, filename):
    """
    Saves dictionary data to a JSON file.
    """
    if data:
        try:
            with open(filename, 'w', encoding='utf-8') as outfile:
                json.dump(data, outfile, indent=4)
            print(f"Data successfully saved to {filename}")
        except IOError as e:
            print(f"Error saving data to {filename}: {e}")
    else:
        print(f"No data to save for {filename}")

if __name__ == "__main__":
    # Fetch data from Sports Game Odds API
    sports_odds_data = fetch_sports_game_odds(SPORTSGAMEODDS_API_KEY)
    if sports_odds_data:

        save_json_to_file(sports_odds_data, "sports_game_odds_epl_2024_2025.json")

    # Fetch data from football-data.org API
  
    football_data_matches = fetch_football_data_matches(FOOTBALL_DATA_ORG_TOKEN, competition_code="PL", season="2023")
    if football_data_matches:

        save_json_to_file(football_data_matches, "football_data_org_pl_2023_matches.json")

    # Fetch data from API-Football (Team Statistics)

    team_stats_data = fetch_api_football_team_stats(API_FOOTBALL_KEY, league_id="39", season="2023", team_id="33")
    if team_stats_data:
        # print("\nAPI-Football Team Stats (Man Utd, PL 2023):", json.dumps(team_stats_data, indent=2))
        save_json_to_file(team_stats_data, "api_football_team33_stats_pl_2023.json")

    print("\nIngest phase attempt complete. Check the JSON files.")


import json

# Snippet for sports_game_odds_epl_2024_2025.json
filename_odds = "sports_game_odds_epl_2024_2025.json"
print(f"--- Attempting to read {filename_odds} ---")
try:
    with open(filename_odds, 'r', encoding='utf-8') as f:
        data_odds = json.load(f)
    
    snippet_odds = None
    # Common patterns: {'data': [items...]}, {'response': [items...]}, or just [items...]
    # This API might have events under a 'data' key as per its documentation example
    if isinstance(data_odds, dict):
        if 'data' in data_odds and isinstance(data_odds['data'], list) and len(data_odds['data']) > 0:
            snippet_odds = data_odds['data'][0] # Get the first event/game
        elif 'events' in data_odds and isinstance(data_odds['events'], list) and len(data_odds['events']) > 0: # Another common name
            snippet_odds = data_odds['events'][0]
        elif 'response' in data_odds and isinstance(data_odds['response'], list) and len(data_odds['response']) > 0:
            snippet_odds = data_odds['response'][0]
        else: # If it's a dictionary but doesn't fit known list patterns
            snippet_odds = data_odds 
    elif isinstance(data_odds, list) and len(data_odds) > 0: # If the file is already a list
        snippet_odds = data_odds[0] # Get the first event/game
    else: # Fallback for other unexpected structures
        snippet_odds = data_odds
        
    print(f"--- Snippet from {filename_odds} ---")
    if snippet_odds is not None:
        print(json.dumps(snippet_odds, indent=2))
    else:
        print("Could not extract a specific snippet, printing whatever was loaded (if anything):")
        print(json.dumps(data_odds, indent=2))

except FileNotFoundError:
    print(f"Error: {filename_odds} not found. Make sure it's in the same directory as your notebook.")
except json.JSONDecodeError:
    print(f"Error: Could not decode JSON from {filename_odds}. The file might be empty or not valid JSON.")
except Exception as e:
    print(f"An error occurred with {filename_odds}: {e}")


%run run_pipeline.py



