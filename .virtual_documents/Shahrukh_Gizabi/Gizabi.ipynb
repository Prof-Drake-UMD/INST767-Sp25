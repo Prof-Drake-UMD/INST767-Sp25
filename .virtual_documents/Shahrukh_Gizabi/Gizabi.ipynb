


pip install IPython


import http.client

conn = http.client.HTTPSConnection("api.sportsgameodds.com")

conn.request("GET", "/v2/events/?apiKey=0983623404088451fb73204a193a538a&leagueID=EPL&startsAfter=2025-03-01T00:00:00Z&startsBefore=2025-04-01T00:00:00Z&limit=3")

res = conn.getresponse()
data = res.read()

print(data.decode("utf-8"))


import http.client

headers = {

    'X-Auth-Token': "03af182216ae4b6ca5b82f8336756202"

}

conn = http.client.HTTPSConnection('api.football-data.org')

conn.request("GET", "/v4/competitions/{2021}/matches", headers=headers)

res = conn.getresponse()

data = res.read()

print(f"\nResponse Status: {res.status} {res.reason}")

print(data.decode('utf-8'))


import http.client

conn = http.client.HTTPSConnection("v3.football.api-sports.io")

headers = {
    'x-rapidapi-host': "v3.football.api-sports.io",
    'x-rapidapi-key': "e07d09f3605182e6fb155626e90508e2"
    }

conn.request("GET", "/teams/statistics?season=2019&team=33&league=39", headers=headers)

res = conn.getresponse()
data = res.read()

print(data.decode("utf-8"))







