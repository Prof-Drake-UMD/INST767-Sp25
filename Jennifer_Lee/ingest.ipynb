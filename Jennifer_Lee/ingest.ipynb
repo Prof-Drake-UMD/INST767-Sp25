{
 "cells": [
  {
   "cell_type": "code",
   "execution_count": 11,
   "id": "41ca105c-41e1-4990-ad05-40fe1117fbf5",
   "metadata": {
    "tags": []
   },
   "outputs": [
    {
     "name": "stdout",
     "output_type": "stream",
     "text": [
      "Requirement already satisfied: yfinance in /Users/jenniferlee/anaconda3/lib/python3.11/site-packages (0.2.55)\n",
      "Requirement already satisfied: pandas>=1.3.0 in /Users/jenniferlee/anaconda3/lib/python3.11/site-packages (from yfinance) (2.0.3)\n",
      "Requirement already satisfied: numpy>=1.16.5 in /Users/jenniferlee/anaconda3/lib/python3.11/site-packages (from yfinance) (1.24.3)\n",
      "Requirement already satisfied: requests>=2.31 in /Users/jenniferlee/anaconda3/lib/python3.11/site-packages (from yfinance) (2.31.0)\n",
      "Requirement already satisfied: multitasking>=0.0.7 in /Users/jenniferlee/anaconda3/lib/python3.11/site-packages (from yfinance) (0.0.11)\n",
      "Requirement already satisfied: platformdirs>=2.0.0 in /Users/jenniferlee/anaconda3/lib/python3.11/site-packages (from yfinance) (3.10.0)\n",
      "Requirement already satisfied: pytz>=2022.5 in /Users/jenniferlee/anaconda3/lib/python3.11/site-packages (from yfinance) (2023.3.post1)\n",
      "Requirement already satisfied: frozendict>=2.3.4 in /Users/jenniferlee/anaconda3/lib/python3.11/site-packages (from yfinance) (2.4.6)\n",
      "Requirement already satisfied: peewee>=3.16.2 in /Users/jenniferlee/anaconda3/lib/python3.11/site-packages (from yfinance) (3.17.9)\n",
      "Requirement already satisfied: beautifulsoup4>=4.11.1 in /Users/jenniferlee/anaconda3/lib/python3.11/site-packages (from yfinance) (4.12.2)\n",
      "Requirement already satisfied: soupsieve>1.2 in /Users/jenniferlee/anaconda3/lib/python3.11/site-packages (from beautifulsoup4>=4.11.1->yfinance) (2.4)\n",
      "Requirement already satisfied: python-dateutil>=2.8.2 in /Users/jenniferlee/anaconda3/lib/python3.11/site-packages (from pandas>=1.3.0->yfinance) (2.8.2)\n",
      "Requirement already satisfied: tzdata>=2022.1 in /Users/jenniferlee/anaconda3/lib/python3.11/site-packages (from pandas>=1.3.0->yfinance) (2023.3)\n",
      "Requirement already satisfied: charset-normalizer<4,>=2 in /Users/jenniferlee/anaconda3/lib/python3.11/site-packages (from requests>=2.31->yfinance) (2.0.4)\n",
      "Requirement already satisfied: idna<4,>=2.5 in /Users/jenniferlee/anaconda3/lib/python3.11/site-packages (from requests>=2.31->yfinance) (3.4)\n",
      "Requirement already satisfied: urllib3<3,>=1.21.1 in /Users/jenniferlee/anaconda3/lib/python3.11/site-packages (from requests>=2.31->yfinance) (1.26.16)\n",
      "Requirement already satisfied: certifi>=2017.4.17 in /Users/jenniferlee/anaconda3/lib/python3.11/site-packages (from requests>=2.31->yfinance) (2024.7.4)\n",
      "Requirement already satisfied: six>=1.5 in /Users/jenniferlee/anaconda3/lib/python3.11/site-packages (from python-dateutil>=2.8.2->pandas>=1.3.0->yfinance) (1.16.0)\n"
     ]
    }
   ],
   "source": [
    "!pip install yfinance\n"
   ]
  },
  {
   "cell_type": "code",
   "execution_count": 49,
   "id": "a89cb458-1967-4a3d-9c55-0ef7b30aa7e6",
   "metadata": {
    "tags": []
   },
   "outputs": [
    {
     "name": "stdout",
     "output_type": "stream",
     "text": [
      "Requirement already satisfied: python-dotenv in /Users/jenniferlee/anaconda3/lib/python3.11/site-packages (0.21.0)\n",
      "Note: you may need to restart the kernel to use updated packages.\n"
     ]
    }
   ],
   "source": [
    "pip install python-dotenv\n"
   ]
  },
  {
   "cell_type": "code",
   "execution_count": 55,
   "id": "933ae03b-efb8-4c08-b357-2536c587e215",
   "metadata": {
    "tags": []
   },
   "outputs": [],
   "source": [
    "with open(\".env\", \"w\") as f:\n",
    "    f.write(\"FRED_API_KEY=your_real_key_here\\n\")\n"
   ]
  },
  {
   "cell_type": "code",
   "execution_count": 15,
   "id": "e26eb969-0f54-477c-ac63-cc43a09589c8",
   "metadata": {
    "tags": []
   },
   "outputs": [
    {
     "name": "stdout",
     "output_type": "stream",
     "text": [
      "Stock Data:\n",
      "                                  Open        High         Low       Close  \\\n",
      "Date                                                                        \n",
      "2025-03-03 00:00:00-05:00  241.789993  244.029999  236.110001  238.029999   \n",
      "2025-03-04 00:00:00-05:00  237.710007  240.070007  234.679993  235.929993   \n",
      "2025-03-05 00:00:00-05:00  235.419998  236.550003  229.229996  235.740005   \n",
      "2025-03-06 00:00:00-05:00  234.440002  237.860001  233.160004  235.330002   \n",
      "2025-03-07 00:00:00-05:00  235.110001  241.369995  234.759995  239.070007   \n",
      "\n",
      "                             Volume  Dividends  Stock Splits  \n",
      "Date                                                          \n",
      "2025-03-03 00:00:00-05:00  47184000        0.0           0.0  \n",
      "2025-03-04 00:00:00-05:00  53798100        0.0           0.0  \n",
      "2025-03-05 00:00:00-05:00  47227600        0.0           0.0  \n",
      "2025-03-06 00:00:00-05:00  45170400        0.0           0.0  \n",
      "2025-03-07 00:00:00-05:00  46273600        0.0           0.0  \n"
     ]
    }
   ],
   "source": [
    "import os\n",
    "import requests\n",
    "import yfinance as yf\n",
    "\n",
    "#yahoo finance \n",
    "\n",
    "def fetch_yahoo(ticker_symbol=\"AAPL\", period='1mo', interval='1d'):\n",
    "    ticker = yf.Ticker(ticker_symbol)\n",
    "    data = ticker.history(period=period, interval=interval)\n",
    "    return data\n",
    "\n",
    "\n",
    "\n",
    "if __name__ == \"__main__\":\n",
    "    stock_data = fetch_yahoo(\"AAPL\")\n",
    "    print(\"Stock Data:\\n\", stock_data.head())\n"
   ]
  },
  {
   "cell_type": "code",
   "execution_count": 37,
   "id": "68adb160-21f8-493c-93a9-a37b270c115e",
   "metadata": {
    "tags": []
   },
   "outputs": [
    {
     "name": "stdout",
     "output_type": "stream",
     "text": [
      "Data saved to aapl_stock_data.json\n"
     ]
    }
   ],
   "source": [
    "def fetch_yahoo_as_json(ticker_symbol=\"AAPL\", period=\"1mo\", interval=\"1d\"):\n",
    "    \n",
    "    ticker = yf.Ticker(ticker_symbol)\n",
    "    data = ticker.history(period=period, interval=interval)\n",
    "\n",
    "    # converting dataframe to JSON string\n",
    "    json_data = data.to_json(orient=\"records\", date_format=\"iso\")\n",
    "\n",
    "    # converting to python object\n",
    "    json_object = json.loads(json_data)\n",
    "\n",
    "    return json_object\n",
    "\n",
    "# saving to file \n",
    "def save_to_json_file(data, filename=\"finance_data.json\"):\n",
    "    with open(filename, \"w\") as f:\n",
    "        json.dump(data, f, indent=4)\n",
    "    print(f\"Data saved to {filename}\")\n",
    "\n",
    "if __name__ == \"__main__\":\n",
    "    stock_data = fetch_yahoo_as_json(\"AAPL\")\n",
    "    save_to_json_file(stock_data, \"aapl_stock_data.json\")"
   ]
  },
  {
   "cell_type": "code",
   "execution_count": 22,
   "id": "9682e0b4-3920-4dc5-b655-6b51f9554cc2",
   "metadata": {
    "tags": []
   },
   "outputs": [],
   "source": [
    "#CoinGecko\n",
    "\n",
    "def fetch_coingecko(crypto_id=\"bitcoin\"):\n",
    "    \n",
    "    url = f\"https://api.coingecko.com/api/v3/simple/price\"\n",
    "    params = {\n",
    "        \"ids\": crypto_id,\n",
    "        \"vs_currencies\": \"usd\",\n",
    "        \"include_market_cap\": \"true\",\n",
    "        \"include_24hr_vol\": \"true\",\n",
    "        \"include_24hr_change\": \"true\"\n",
    "    }\n",
    "    response = requests.get(url, params=params)\n",
    "    return response.json()\n"
   ]
  },
  {
   "cell_type": "code",
   "execution_count": 24,
   "id": "05c0d7ff-a516-474c-918c-6bee227d53a5",
   "metadata": {
    "tags": []
   },
   "outputs": [
    {
     "name": "stdout",
     "output_type": "stream",
     "text": [
      "Crypto Data:\n",
      " {'bitcoin': {'usd': 85048, 'usd_market_cap': 1688800249194.883, 'usd_24h_vol': 29663030503.646545, 'usd_24h_change': 2.8493889529459278}}\n"
     ]
    }
   ],
   "source": [
    "if __name__ == \"__main__\":\n",
    "    crypto_data = fetch_coingecko(\"bitcoin\")\n",
    "    print(\"Crypto Data:\\n\", crypto_data)\n"
   ]
  },
  {
   "cell_type": "code",
   "execution_count": 31,
   "id": "1851977d-eefc-4d12-82a9-689e4d837359",
   "metadata": {
    "tags": []
   },
   "outputs": [],
   "source": [
    "def fetch_fred(series_id=\"CPIAUCSL\"):\n",
    "  \n",
    "    url = \"https://api.stlouisfed.org/fred/series/observations\"\n",
    "    params = {\n",
    "        \"series_id\": series_id,\n",
    "        \"api_key\": api_key,\n",
    "        \"file_type\": \"json\"\n",
    "    }\n",
    "    response = requests.get(url, params=params)\n",
    "    return response.json()"
   ]
  },
  {
   "cell_type": "code",
   "execution_count": 33,
   "id": "5f2019e9-010d-4f74-b842-57bd4de7703d",
   "metadata": {
    "tags": []
   },
   "outputs": [
    {
     "name": "stdout",
     "output_type": "stream",
     "text": [
      "FRED Data:\n",
      " [{'realtime_start': '2025-03-24', 'realtime_end': '2025-03-24', 'date': '1947-01-01', 'value': '21.48'}, {'realtime_start': '2025-03-24', 'realtime_end': '2025-03-24', 'date': '1947-02-01', 'value': '21.62'}, {'realtime_start': '2025-03-24', 'realtime_end': '2025-03-24', 'date': '1947-03-01', 'value': '22.0'}, {'realtime_start': '2025-03-24', 'realtime_end': '2025-03-24', 'date': '1947-04-01', 'value': '22.0'}, {'realtime_start': '2025-03-24', 'realtime_end': '2025-03-24', 'date': '1947-05-01', 'value': '21.95'}]\n"
     ]
    }
   ],
   "source": [
    "if __name__ == \"__main__\":\n",
    "    fred_data = fetch_fred(\"CPIAUCSL\")\n",
    "    print(\"FRED Data:\\n\", fred_data[\"observations\"][:5])"
   ]
  }
 ],
 "metadata": {
  "kernelspec": {
   "display_name": "Python 3 (ipykernel)",
   "language": "python",
   "name": "python3"
  },
  "language_info": {
   "codemirror_mode": {
    "name": "ipython",
    "version": 3
   },
   "file_extension": ".py",
   "mimetype": "text/x-python",
   "name": "python",
   "nbconvert_exporter": "python",
   "pygments_lexer": "ipython3",
   "version": "3.11.5"
  }
 },
 "nbformat": 4,
 "nbformat_minor": 5
}
