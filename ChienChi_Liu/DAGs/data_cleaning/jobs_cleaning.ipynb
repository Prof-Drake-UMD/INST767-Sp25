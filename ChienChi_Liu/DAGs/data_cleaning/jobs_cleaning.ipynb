{
 "cells": [
  {
   "cell_type": "code",
   "execution_count": 27,
   "id": "5969ce0a",
   "metadata": {},
   "outputs": [],
   "source": [
    "import json, pandas as pd"
   ]
  },
  {
   "cell_type": "code",
   "execution_count": 53,
   "id": "c148310a",
   "metadata": {},
   "outputs": [
    {
     "data": {
      "text/plain": [
       "category                object\n",
       "salary_max             float64\n",
       "salary_is_predicted      int64\n",
       "__CLASS__               object\n",
       "created                 object\n",
       "title                   object\n",
       "longitude              float64\n",
       "id                       int64\n",
       "latitude               float64\n",
       "salary_min             float64\n",
       "contract_time           object\n",
       "redirect_url            object\n",
       "company                 object\n",
       "description             object\n",
       "location                object\n",
       "adref                   object\n",
       "contract_type           object\n",
       "dtype: object"
      ]
     },
     "execution_count": 53,
     "metadata": {},
     "output_type": "execute_result"
    }
   ],
   "source": [
    "df_adzuna = pd.read_json('data/adzuna_jobs.json')\n",
    "df_adzuna.dtypes"
   ]
  },
  {
   "cell_type": "code",
   "execution_count": 54,
   "id": "c1e757dc",
   "metadata": {},
   "outputs": [
    {
     "data": {
      "text/plain": [
       "title       object\n",
       "location    object\n",
       "snippet     object\n",
       "salary      object\n",
       "source      object\n",
       "type        object\n",
       "link        object\n",
       "company     object\n",
       "updated     object\n",
       "id           int64\n",
       "dtype: object"
      ]
     },
     "execution_count": 54,
     "metadata": {},
     "output_type": "execute_result"
    }
   ],
   "source": [
    "df_jooble = pd.read_json('data/jooble_jobs.json')\n",
    "df_jooble.dtypes"
   ]
  },
  {
   "cell_type": "code",
   "execution_count": 55,
   "id": "b72e2fb9",
   "metadata": {},
   "outputs": [
    {
     "data": {
      "text/plain": [
       "contents            object\n",
       "name                object\n",
       "type                object\n",
       "publication_date    object\n",
       "short_name          object\n",
       "model_type          object\n",
       "id                   int64\n",
       "locations           object\n",
       "categories          object\n",
       "levels              object\n",
       "tags                object\n",
       "refs                object\n",
       "company             object\n",
       "dtype: object"
      ]
     },
     "execution_count": 55,
     "metadata": {},
     "output_type": "execute_result"
    }
   ],
   "source": [
    "df_muse = pd.read_json('data/muse_jobs.json')\n",
    "df_muse.dtypes"
   ]
  },
  {
   "cell_type": "code",
   "execution_count": 93,
   "id": "1b00f521",
   "metadata": {},
   "outputs": [],
   "source": [
    "field_mappings = {\n",
    "    'df_adzuna': {\n",
    "        'job_title': 'title',\n",
    "        'job_description': 'description',\n",
    "        'job_url': 'redirect_url',\n",
    "        'posted_date': 'created',\n",
    "        'job_category': 'category.label',\n",
    "        'job_type': 'contract_time',\n",
    "        'company_name': 'company.display_name',\n",
    "        'salary': 'combined_salary_string',   \n",
    "        'salary_min': 'salary_min',\n",
    "        'salary_max': 'salary_max',\n",
    "    },\n",
    "    'df_jooble': {\n",
    "        'job_title': 'title',\n",
    "        'job_description': 'snippet',\n",
    "        'job_url': 'link',\n",
    "        'posted_date': 'updated',\n",
    "        'job_category': 'type',\n",
    "        'job_type': 'type',\n",
    "        'company_name': 'company',\n",
    "        'salary': 'salary',\n",
    "    },\n",
    "    'df_muse': {\n",
    "        'job_title': 'name',\n",
    "        'job_description': 'contents',\n",
    "        'job_url': 'refs.landing_page',\n",
    "        'posted_date': 'publication_date',\n",
    "        'job_category': 'categories[0].name', \n",
    "        'job_type': '',   \n",
    "        'company_name': 'company.name',\n",
    "        'salary': ''\n",
    "    }\n",
    "}\n"
   ]
  },
  {
   "cell_type": "code",
   "execution_count": 95,
   "id": "b19372d4",
   "metadata": {},
   "outputs": [],
   "source": [
    "mapping_adzuna = field_mappings['df_adzuna']\n",
    "mapping_jooble = field_mappings['df_jooble']\n",
    "mapping_muse = field_mappings['df_muse']\n",
    "df_standardized_adzuna = pd.DataFrame()\n",
    "df_standardized_jooble = pd.DataFrame()\n",
    "df_standardized_muse = pd.DataFrame()\n",
    "\n",
    "for new_col, original_col in mapping_adzuna.items():\n",
    "    if new_col not in ['salary_min', 'salary_max']:\n",
    "        if '.' in original_col:\n",
    "            parts = original_col.split('.')\n",
    "            if parts[0] in df_adzuna.columns:\n",
    "                df_standardized_adzuna[new_col] = df_adzuna[parts[0]].apply(\n",
    "                    lambda x: x.get(parts[1]) if isinstance(x, dict) and parts[1] in x else None\n",
    "                )\n",
    "        else:\n",
    "            if original_col in df_adzuna.columns:\n",
    "                df_standardized_adzuna[new_col] = df_adzuna[original_col]\n",
    "            else:\n",
    "                df_standardized_adzuna[new_col] = None\n",
    "# Handle salary separately\n",
    "if 'salary_min' in mapping_adzuna and 'salary_max' in mapping_adzuna:\n",
    "    min_col = mapping_adzuna['salary_min']\n",
    "    max_col = mapping_adzuna['salary_max']\n",
    "\n",
    "    if min_col in df_adzuna.columns and max_col in df_adzuna.columns:\n",
    "        df_standardized_adzuna['salary'] = '$' + df_adzuna[min_col].astype(str) + ' - ' + '$' + df_adzuna[max_col].astype(str)\n",
    "        df_standardized_adzuna['salary'] = df_standardized_adzuna['salary'].str.replace('nan', '', regex=False)\n",
    "    else:\n",
    "        df_standardized_adzuna['salary'] = None\n",
    "\n",
    "for new_col, original_col in mapping_jooble.items():\n",
    "    if original_col in df_jooble.columns:\n",
    "        df_standardized_jooble[new_col] = df_jooble[original_col]\n",
    "    else:\n",
    "        df_standardized_jooble[new_col] = None\n",
    "\n",
    "for new_col, original_col in mapping_muse.items():\n",
    "    if '.' in original_col:\n",
    "        parts = original_col.split('.')\n",
    "        if parts[0] in df_muse.columns:\n",
    "            df_standardized_muse[new_col] = df_muse[parts[0]].apply(\n",
    "                lambda x: x.get(parts[1]) if isinstance(x, dict) and parts[1] in x else None\n",
    "            )\n",
    "        elif parts[0] == 'categories[0]' and 'categories' in df_muse.columns:\n",
    "            df_standardized_muse[new_col] = df_muse['categories'].apply(\n",
    "                lambda x: x[0].get('name') if isinstance(x, list) and len(x) > 0 and 'name' in x[0] else None\n",
    "            )\n",
    "    else:\n",
    "        if original_col in df_muse.columns:\n",
    "            df_standardized_muse[new_col] = df_muse[original_col]\n",
    "        else:\n",
    "            df_standardized_muse[new_col] = None\n",
    "\n",
    "combined_df = pd.concat([df_standardized_adzuna, df_standardized_jooble, df_standardized_muse], ignore_index=True)\n",
    "combined_df.to_json('data/jobs_data_standardized.json', orient='records', indent=4)\n",
    "\n"
   ]
  }
 ],
 "metadata": {
  "kernelspec": {
   "display_name": "base",
   "language": "python",
   "name": "python3"
  },
  "language_info": {
   "codemirror_mode": {
    "name": "ipython",
    "version": 3
   },
   "file_extension": ".py",
   "mimetype": "text/x-python",
   "name": "python",
   "nbconvert_exporter": "python",
   "pygments_lexer": "ipython3",
   "version": "3.8.5"
  }
 },
 "nbformat": 4,
 "nbformat_minor": 5
}
